{
 "cells": [
  {
   "cell_type": "code",
   "execution_count": 1,
   "metadata": {},
   "outputs": [
    {
     "data": {
      "text/plain": [
       "($BTC.X    36937\n",
       " $TSLA     30358\n",
       " $AAPL     18506\n",
       " $BABA     15801\n",
       " $QQQ      12404\n",
       " $NVDA      9079\n",
       " $NFLX      6248\n",
       " $AMZN      5689\n",
       " $JPM       5455\n",
       " $QCOM      5412\n",
       " $GOOGL     5083\n",
       " $TSM       4938\n",
       " $JD        4812\n",
       " $MS        4387\n",
       " $PYPL      3979\n",
       " $FB        3826\n",
       " $SBUX      3050\n",
       " $GS        2894\n",
       " $DIS       2782\n",
       " $MSFT      2598\n",
       " $JNJ       2580\n",
       " $TWTR      1937\n",
       " $INTC      1677\n",
       " $KO        1577\n",
       " $ORCL      1328\n",
       " $WMT       1183\n",
       " $EBAY      1120\n",
       " $C         1069\n",
       " $BAC       1013\n",
       " Name: symbols, dtype: int64,\n",
       " 29)"
      ]
     },
     "execution_count": 1,
     "metadata": {},
     "output_type": "execute_result"
    }
   ],
   "source": [
    "import pandas as pd\n",
    "from pathlib import Path\n",
    "import os\n",
    "\n",
    "upper_limit = 999999999\n",
    "lower_limit = 1000\n",
    "\n",
    "directory = Path(os.getcwd())   # 'c:\\\\Users\\\\samue\\\\OneDrive\\\\Desktop\\\\JPM Fintech\\\\HKUST-x-J.P.-Morgan-Fintech-Mentorship-Program\\\\model_testing\\\\supervised'\n",
    "directory = directory.parent.parent.parent.joinpath(\"data\")  # 'c:\\\\Users\\\\samue\\\\OneDrive\\\\Desktop\\\\JPM Fintech\\\\data'\n",
    "df = pd.read_pickle(directory.joinpath(\"stocktwits_processed_cleaned_full.pkl\"))\n",
    "# remove symbols with too little sample size\n",
    "df = df.groupby('symbols').filter(lambda x : len(x)> lower_limit)\n",
    "# turn all symbols into the same sample size\n",
    "#i = sample\n",
    "for j in set(df['symbols']):\n",
    "    if df['symbols'].value_counts()[j] > upper_limit:\n",
    "        df = df[df['symbols'] != j].append(df[df['symbols'] == j].sample(upper_limit), ignore_index=True)\n",
    "df['symbols'].value_counts(), len(df['symbols'].value_counts())"
   ]
  },
  {
   "cell_type": "code",
   "execution_count": 5,
   "metadata": {},
   "outputs": [
    {
     "name": "stdout",
     "output_type": "stream",
     "text": [
      "29 unique classes\t138405 training samples\t59317 test samples\n"
     ]
    }
   ],
   "source": [
    "\n",
    "ratio = 0.7\n",
    "df_train = df.sample(frac=ratio,random_state=200)\n",
    "df_test = df.drop(df_train.index)\n",
    "\n",
    "X_train = df_train.text\n",
    "X_test = df_test.text\n",
    "    \n",
    "y_train = df_train.symbols\n",
    "y_test = df_test.symbols\n",
    "\n",
    "print(\"{} unique classes\\t{} training samples\\t{} test samples\".format(len(set(y_train)), len(X_train), len(X_test)))\n",
    "\n",
    "#X = df.text\n",
    "#y = df.symbols"
   ]
  },
  {
   "cell_type": "code",
   "execution_count": 16,
   "metadata": {},
   "outputs": [
    {
     "name": "stdout",
     "output_type": "stream",
     "text": [
      "The accuracy is 0.7209400340543183\n",
      "\n"
     ]
    }
   ],
   "source": [
    "import seaborn as sns\n",
    "import matplotlib.pyplot as plt\n",
    "from sklearn.naive_bayes import MultinomialNB, ComplementNB\n",
    "from sklearn.metrics import confusion_matrix, accuracy_score\n",
    "from sklearn.feature_extraction.text import TfidfVectorizer\n",
    "from imblearn.pipeline import Pipeline\n",
    "from sklearn.metrics import classification_report\n",
    "import numpy as np\n",
    "from sklearn.model_selection import GridSearchCV\n",
    "from sklearn.model_selection import KFold\n",
    "from imblearn.over_sampling import SMOTE\n",
    "from sklearn.svm import LinearSVC\n",
    "from sklearn.linear_model import LogisticRegression\n",
    "\n",
    "\n",
    "# Build the model\n",
    "model = Pipeline([('tfidf', TfidfVectorizer(max_df=0.15, ngram_range=(1, 2))),\n",
    "                ('clf', ComplementNB(alpha=0.1))])\n",
    "\n",
    "#model = Pipeline([('tfidf', TfidfVectorizer(max_df=0.15, ngram_range=(1, 2))),\n",
    "                #('smote', SMOTE(n_jobs=4)),\n",
    "                #('clf', LinearSVC())])\n",
    "\n",
    "\n",
    "#para_grid = {\"tfidf__ngram_range\": [(1,2), (1,3)], \n",
    "            #\"tfidf__max_df\": [0.05,0.1,0.15],\n",
    "            #\"tfidf__sublinear_tf\": [True, False],\n",
    "            #\"clf__alpha\": [0.1,1],\n",
    "            #\"clf__norm\": [True, False]}\n",
    "\n",
    "#model = GridSearchCV(model, param_grid=para_grid, scoring='f1_macro', cv=10, n_jobs=4)\n",
    "model.fit(X_train, y_train)\n",
    "# Predict the symbols of the test data\n",
    "#print(model.best_estimator_)\n",
    "y_pred = model.predict(X_test)\n",
    "# accuracy\n",
    "print(\"The accuracy is {}\".format(accuracy_score(y_test, y_pred)))\n",
    "\n",
    "#print(classification_report(y_test, y_pred))\n",
    "print()\n",
    "report = classification_report(y_test, y_pred)\n",
    "#classification_report_csv(report,a,b)   \n",
    "\n"
   ]
  },
  {
   "cell_type": "code",
   "execution_count": 7,
   "metadata": {},
   "outputs": [
    {
     "data": {
      "text/plain": [
       "Pipeline(steps=[('tfidf', TfidfVectorizer(max_df=0.15, ngram_range=(1, 2))),\n",
       "                ('clf', ComplementNB(alpha=0.1))])"
      ]
     },
     "execution_count": 7,
     "metadata": {},
     "output_type": "execute_result"
    }
   ],
   "source": [
    "model.best_estimator_"
   ]
  },
  {
   "cell_type": "code",
   "execution_count": null,
   "metadata": {},
   "outputs": [],
   "source": [
    "Pipeline(steps=[('tfidf', TfidfVectorizer(max_df=0.1, ngram_range=(1, 2))),\n",
    "                ('clf', ComplementNB(alpha=0.1, norm=True))])\n",
    "The accuracy is 0.716034189186911"
   ]
  },
  {
   "cell_type": "code",
   "execution_count": 19,
   "metadata": {},
   "outputs": [
    {
     "name": "stdout",
     "output_type": "stream",
     "text": [
      "              precision    recall  f1-score   support\n",
      "\n",
      "       $AAPL       0.68      0.62      0.65      5555\n",
      "       $AMZN       0.78      0.53      0.63      1703\n",
      "       $BABA       0.69      0.60      0.64      4829\n",
      "        $BAC       0.66      0.47      0.55       312\n",
      "      $BTC.X       0.71      0.88      0.78     11094\n",
      "          $C       0.84      0.46      0.59       335\n",
      "        $DIS       0.76      0.49      0.60       796\n",
      "       $EBAY       0.82      0.75      0.78       332\n",
      "         $FB       0.64      0.38      0.48      1202\n",
      "      $GOOGL       0.74      0.89      0.81      1549\n",
      "         $GS       0.84      0.75      0.79       911\n",
      "       $INTC       0.80      0.52      0.63       516\n",
      "         $JD       0.77      0.75      0.76      1470\n",
      "        $JNJ       0.72      0.88      0.79       740\n",
      "        $JPM       0.86      0.84      0.85      1625\n",
      "         $KO       0.71      0.85      0.77       449\n",
      "         $MS       0.73      0.93      0.82      1299\n",
      "       $MSFT       0.63      0.40      0.49       764\n",
      "       $NFLX       0.76      0.87      0.81      1851\n",
      "       $NVDA       0.61      0.49      0.54      2638\n",
      "       $ORCL       0.62      0.32      0.43       422\n",
      "       $PYPL       0.66      0.40      0.50      1200\n",
      "       $QCOM       0.78      0.74      0.76      1621\n",
      "        $QQQ       0.69      0.80      0.74      3695\n",
      "       $SBUX       0.84      0.80      0.82       942\n",
      "       $TSLA       0.75      0.78      0.76      9059\n",
      "        $TSM       0.71      0.87      0.78      1439\n",
      "       $TWTR       0.72      0.35      0.47       609\n",
      "        $WMT       0.70      0.41      0.51       360\n",
      "\n",
      "    accuracy                           0.72     59317\n",
      "   macro avg       0.73      0.65      0.67     59317\n",
      "weighted avg       0.72      0.72      0.71     59317\n",
      "\n"
     ]
    }
   ],
   "source": [
    "\n",
    "report = classification_report(y_test, y_pred)\n",
    "print(report)"
   ]
  },
  {
   "cell_type": "code",
   "execution_count": 25,
   "metadata": {},
   "outputs": [],
   "source": [
    "name = ['$AAPL','$AMZN','$BABA','$BTC.X','$JPM','$NVDA','$NFLX','$QCOM', '$QQQ','$TSLA']"
   ]
  },
  {
   "cell_type": "code",
   "execution_count": 8,
   "metadata": {},
   "outputs": [
    {
     "data": {
      "text/plain": [
       "['models/ComplementNB.joblib']"
      ]
     },
     "execution_count": 8,
     "metadata": {},
     "output_type": "execute_result"
    }
   ],
   "source": [
    "from joblib import dump, load\n",
    "dump(model, 'models/ComplementNB.joblib') "
   ]
  },
  {
   "cell_type": "code",
   "execution_count": 21,
   "metadata": {},
   "outputs": [
    {
     "data": {
      "text/plain": [
       "Pipeline(steps=[('tfidf', TfidfVectorizer(max_df=0.7)),\n",
       "                ('imbl', SMOTE(n_jobs=-3)), ['clf', LinearSVC()]])"
      ]
     },
     "execution_count": 21,
     "metadata": {},
     "output_type": "execute_result"
    }
   ],
   "source": [
    "y_pred = clf.predict(X_test)\n"
   ]
  },
  {
   "cell_type": "code",
   "execution_count": 22,
   "metadata": {},
   "outputs": [
    {
     "data": {
      "text/plain": [
       "0.6590690695753325"
      ]
     },
     "execution_count": 22,
     "metadata": {},
     "output_type": "execute_result"
    }
   ],
   "source": [
    "accuracy_score(y_test, y_pred)"
   ]
  },
  {
   "cell_type": "code",
   "execution_count": 44,
   "metadata": {},
   "outputs": [
    {
     "name": "stdout",
     "output_type": "stream",
     "text": [
      "              precision    recall  f1-score   support\n",
      "\n",
      "       $AAPL       0.60      0.60      0.60      5542\n",
      "       $AMZN       0.86      0.48      0.62      1744\n",
      "       $BABA       0.64      0.54      0.58      4839\n",
      "        $BAC       0.62      0.12      0.20       312\n",
      "        $BTC       0.00      0.00      0.00       208\n",
      "      $BTC.X       0.57      0.91      0.70     11128\n",
      "          $C       0.66      0.18      0.28       336\n",
      "        $DIS       0.73      0.47      0.57       798\n",
      "       $EBAY       0.81      0.45      0.58       348\n",
      "         $FB       0.70      0.34      0.46      1182\n",
      "      $GOOGL       0.54      0.76      0.63      1537\n",
      "         $GS       0.58      0.54      0.56       871\n",
      "       $HSBC       0.86      0.66      0.75       182\n",
      "       $INTC       0.91      0.35      0.50       511\n",
      "         $JD       0.65      0.36      0.46      1434\n",
      "        $JNJ       0.79      0.58      0.67       759\n",
      "        $JPM       0.66      0.71      0.68      1571\n",
      "         $KO       0.70      0.48      0.57       450\n",
      "         $MA       0.64      0.26      0.37       201\n",
      "         $MS       0.54      0.87      0.67      1249\n",
      "       $MSFT       0.66      0.28      0.39       773\n",
      "       $NFLX       0.77      0.70      0.73      1888\n",
      "       $NVDA       0.58      0.49      0.53      2663\n",
      "       $ORCL       0.83      0.27      0.40       381\n",
      "       $PYPL       0.67      0.36      0.47      1214\n",
      "       $QCOM       0.82      0.37      0.51      1656\n",
      "        $QQQ       0.60      0.50      0.54      3648\n",
      "       $SBUX       0.80      0.59      0.68       929\n",
      "        $SPY       0.78      0.40      0.53       182\n",
      "       $TSLA       0.69      0.77      0.73      9106\n",
      "        $TSM       0.50      0.62      0.56      1478\n",
      "       $TWTR       0.79      0.18      0.29       602\n",
      "        $UBS       0.79      0.53      0.64        77\n",
      "        $UNH       0.83      0.35      0.49        83\n",
      "        $USB       0.84      0.58      0.69       195\n",
      "          $V       0.82      0.39      0.53       265\n",
      "        $WMT       0.77      0.49      0.60       359\n",
      "        $XOM       0.90      0.33      0.49       252\n",
      "\n",
      "    accuracy                           0.63     60953\n",
      "   macro avg       0.70      0.47      0.53     60953\n",
      "weighted avg       0.65      0.63      0.61     60953\n",
      "\n"
     ]
    }
   ],
   "source": [
    "print(classification_report(y_test, y_pred))"
   ]
  },
  {
   "cell_type": "code",
   "execution_count": 56,
   "metadata": {},
   "outputs": [
    {
     "data": {
      "text/plain": [
       "<sklearn.metrics._plot.confusion_matrix.ConfusionMatrixDisplay at 0x259970f60a0>"
      ]
     },
     "execution_count": 56,
     "metadata": {},
     "output_type": "execute_result"
    },
    {
     "data": {
      "image/png": "[encoded data removed]",
      "text/plain": [
       "<Figure size 720x720 with 2 Axes>"
      ]
     },
     "metadata": {
      "needs_background": "light"
     },
     "output_type": "display_data"
    }
   ],
   "source": [
    "# plot the confusion matrix\n",
    "from sklearn.metrics import plot_confusion_matrix\n",
    "fig, ax = plt.subplots(figsize=(10, 10))\n",
    "mat = plot_confusion_matrix(model,y_test, y_pred, labels=name,normalize='true',ax=ax)\n",
    "mat\n"
   ]
  },
  {
   "cell_type": "code",
   "execution_count": 14,
   "metadata": {},
   "outputs": [
    {
     "data": {
      "text/plain": [
       "'$MSFT'"
      ]
     },
     "execution_count": 14,
     "metadata": {},
     "output_type": "execute_result"
    }
   ],
   "source": [
    "from joblib import dump, load\n",
    "clf = load('models/linearSVC.joblib')\n",
    "to_predict = input(\"Text to be predicted: \")\n",
    "clf.predict([to_predict])[0]"
   ]
  },
  {
   "cell_type": "code",
   "execution_count": null,
   "metadata": {},
   "outputs": [],
   "source": []
  }
 ],
 "metadata": {
  "interpreter": {
   "hash": "b81dac28726c83b00d3c6dae9e63a43b8c5453f676fc94493b94bdbc8172050b"
  },
  "kernelspec": {
   "display_name": "Python 3.8.12 64-bit ('jpm': conda)",
   "language": "python",
   "name": "python3"
  },
  "language_info": {
   "codemirror_mode": {
    "name": "ipython",
    "version": 3
   },
   "file_extension": ".py",
   "mimetype": "text/x-python",
   "name": "python",
   "nbconvert_exporter": "python",
   "pygments_lexer": "ipython3",
   "version": "3.8.12"
  },
  "orig_nbformat": 4
 },
 "nbformat": 4,
 "nbformat_minor": 2
}
