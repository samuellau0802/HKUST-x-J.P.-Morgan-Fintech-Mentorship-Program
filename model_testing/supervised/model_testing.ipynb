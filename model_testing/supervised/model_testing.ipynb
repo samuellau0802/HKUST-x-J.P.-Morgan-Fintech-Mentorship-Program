{
 "cells": [
  {
   "cell_type": "code",
   "execution_count": 5,
   "metadata": {},
   "outputs": [],
   "source": [
    "import pandas as pd\n",
    "from pathlib import Path\n",
    "import os"
   ]
  },
  {
   "cell_type": "markdown",
   "metadata": {},
   "source": [
    "setup: train_test split, undersampling"
   ]
  },
  {
   "cell_type": "code",
   "execution_count": 7,
   "metadata": {},
   "outputs": [
    {
     "name": "stdout",
     "output_type": "stream",
     "text": [
      " Musk talking about deficit like a business, incomes lower than outflows.  After receiving a 1.5 trillion tax cut for businesses....\n",
      " A US State Department official has said that tech companies Alibaba and Tencent should be seen as tools of the Chinese government, along with China’s embattled telecom giant Huawei. It raises the possibility that the US will widen its range of Chinese targets for enhanced scrutiny due to security concerns.\n",
      " $1300 before EOY\n",
      " I just signed up for prime. may my 12.99 bucks a month help us get better earnings!\n",
      " Bye bye 👋\n",
      " \n",
      "The next Amazon EXPI\n",
      "\n",
      "EXP world holdings\n",
      " what the fuck is this!!\n",
      " my buddy is up 800% on this since 2016. Never selling don’t be weak lol. This pull back is needed\n",
      "Will  be around in 10 years? If you answered yes, this is a no brainer BUY right now. Fundamentals are great, the only reason this is dipping is FEAR. Buy while the market is fearful people\n",
      " Santa rally b.s.\n",
      " short squeeze next year. Let’s go 🍷🍀🙏\n",
      " under 90 today?\n",
      " oooof\n",
      " ;-) \n",
      "\n",
      " gap closed. Bears going extinct next. Don’t fight the CCP.\n",
      " what time is the stock split? Muahahahaha\n",
      " ughh 147 shoot it over meeeee\n",
      "  feel the apples dancing..\n",
      ": Considerably lower volume is observed in the last couple of days, which is a good thing during a pullback. \n",
      " Wait for it to hit the 200sma next week! You know the market gives nothing on Fridays 🤷🏿‍♂️\n",
      ".X bears you have any realistic price targets for us and dates? Because all these $23k and 30k price predictions are just looking more and more stupid. Lmfao\n",
      " I have this and some airlines in my portfolio this week. Weirdly enough, TWTR moves in tandem with airline stocks. Why??????????\n",
      ".X Bitcoin is what happens when you have a shitty education system\n",
      ".X going in heavy!\n",
      " I've seen a lot of poorly drawn charts here. On mine I got this one at the bottom of the channel.\n",
      ".X How can you look at that in a HTF and still be bullish after a 1% up yesterday?\n",
      " model 3 looks bloated\n",
      " 3$ move coming soon\n",
      " .....hey Mortimer......you better cover!!!!!!\n",
      " holy shit this is legit \n",
      "\n",
      "Big time Guh for Todd Wisemen\n",
      "  this didn't age well 😅😅😅\n",
      " Such a great set up for the New Year. BaBa has a massive (bigger than Amazon) Logistic set up for a Covid play and a recovery play. Expanding Globaly. I am holding hard and tight. Today will be interesting could well get another 10% rise for the clever investors getting in Early.                 \n",
      "                                         Get in Early.\n",
      ".X just look🚨\n",
      " can we sue the government for causing this panic and costing money.  This drop is unrelated to the health of the company but is instead 100% on the government trying to enact policies to delist companies people are invested in\n",
      " TSLA 2021-12-01 Options Analysis Video: \n",
      "\n",
      " does anyone think we will ever be at 300?\n",
      " check out GNUS huge buying opportunity\n",
      " For you all that don't know, the balancing of the universe = intrinsic value. IT'S COMING!!! 😉\n",
      " 200, cause Morgan said so ‼️‼️‼️‼️\n",
      ".X IPOF taking starlink public\n",
      ".X lol my 20x leverage position @51170 is hurting big time rn 😂\n",
      " 📡 Goldman Sachs initiated coverage on UnitedHealth Group with a new price target\n",
      "\n",
      "\n",
      "\n",
      "45 seconds delayed.\n",
      " bitconnectttt\n",
      " SCARY DROP INCOMING! GAP FILL TO $910 INEVITABLE!\n",
      "\n",
      " Huge Drop ....Incoming...If Ya Have Any Profits...Take Them\n",
      ".X why do my farts stink?\n",
      " ————->FIREPOWER: Institutional cash on the sidelines > $3.2 trillion, the highest in all of 2021\n",
      "To appreciate how much firepower this represents. ICI institutional money market cash is now $3.2 trillion.\n",
      "\n",
      "– this $3.2T is the highest in all of 2021\n",
      "– cash on sidelines = firepower\n",
      "– sign of a bottom, not a top\n",
      " short it at $1000 if it gets there or around the 990 range. Use the 1H as your guide\n",
      ".X they raise the debt ceiling, because its easy for them to pay off old debt with devalued dollars. For example some of this old debt from i dunno 10 years ago, is worth a lot less today because of the debasement of fiat. In fact factoring inflation, the FED PAYS ITSELF to borrow more money and pay off debt. This is a great system if you hold investable assets because it causes inflation. The rich get richer, and those who dont qualify for cheap loans to buy stuff with, or have appreciateive assets that are denomated in dollars fall further behind.\n",
      "The people who fall further behind are those who live pay cheque to pay cheque because they obviously only hold cash. Also the future economy (the kids) also fall further behind because kids dont have assets or qualify for cheap loans either.\n",
      " zamn\n",
      ".X I thought the blockchain was secure\n",
      " somethings cooking. Just don't know if it's good or bad.\n",
      " Economic resilience is strong. Short term, there will be ups & downs. Use the downs to accumulate Xceptional business for long-term wealth. Long term bullish on Disney - \n",
      ".X once again, the red candles approach\n",
      " Futures are still green.\n",
      " starting position long game\n",
      " gotta love when Google leaks this like fresh celeb sextapes on the weekends 😘\n",
      ".X \n",
      "Lets go Brandon\n",
      "49k\n",
      ".X NEW ARTICLE : Bitcoin, Ethereum, Dogecoin Crash, Could This 'Historic Milestone' And A Santa Rally Reverse Fortunes? \n",
      " I call manipulation.. just wish I was on the right side...\n",
      " what yall think. $100 or $0 for support?\n",
      " \n",
      " hopefully vix futures melt down overnight. Huge bullish dark pool activity EOD Friday.\n",
      " This all started with Trump banning Hwawei. I owned 100 shares Xiaomi  bouight OTC and I could not add more for put on a banned list. I think it eventually lost in court, but the US is still at it. Really dirty trade war tactics where rich Caslifornia tech using their ownership of politicians to chop  global competition now that China has grown from making cheap shoes and dollar store  trinkets to sophisticated technologies. I wasn't around to buy Apple and Amazon Tesla at $5 .So I buy the China  iphone maker, Xpev,  BABA and so many others . I will keep adding . Also own a lot of Japan stocks India UK because the dollar becoming  the biggest  fraud in the world.\n",
      "  🤦‍♂️🤦‍♂️🤦‍♂️🤦‍♂️🤦‍♂️🤷🤷🤷🤷🤷🤷🤷\n",
      ".X Okay time to return the Tesla Plaid and buy more Bitcoin.\n",
      " i have no doubts it will bounce back\n",
      " This falls 40 dollars oevr a month and everyone here still bullish\n",
      "\n",
      "insane\n",
      ".X\n",
      "\n",
      " going back to 2000 🤷🏼‍♂️\n",
      ".X Oh boy enjoy the green while you can. Powell hasn’t spoken/answered questions yet.. classic movement lol once that time comes around, GL!!\n",
      " longs blaming market is comical. It was down even when market soared. You’re clowns\n",
      " needless to say my worst mistake of this year .. can’t sell ... painful to watch ... what’s your plan on this ?\n",
      " another red day tmr\n",
      " f u c k this stock\n",
      " far calls on days like this are a STEAL\n",
      " Looks like the CEO is selling more shares\n",
      " 🌔🌕🌖🌗🌘🌙🌚🌑🌒🌝🌜🌛\n",
      " \n",
      "\n",
      "Long live to BABA!!!\n",
      " One way to become a bagholder is to buy stock from a very smart founder/CEO, who is dumping shares after a very long bull run in the shares.\n",
      " Tornado is the 900lb gorilla in the room\n",
      "I feel horrible for those people they used call it the tornado belt b4 they called it global warming\n",
      ".X 💎🙌🏻\n",
      "  Going down  44.40  strong support may bounce from der\n",
      " Uh oh!\n",
      "An Altman-Z score of 21.59 indicates that  is not in any danger for bankruptcy at the moment. \n",
      " 👀💥\n",
      ".X Elon didn’t sell\n",
      " No long in history is in loss in this moment\n",
      "@ShantP21 @Rucer517 @AllJackedUp @Stock__Twists @Uncle_Covid @Jamz83 @Oliwood @denseanddumb @grifmaster \n",
      "\n",
      "Closely held NYDIG raises $1B in a growth equity funding round that gives the bitcoin platform a valuation of more than $7B.\n",
      "\n",
      "NYDIG describes itself as \"a bitcoin company powering a more inclusive economic system. Delivering technology and financial services to businesses in a broad range of industries, its full-stack bitcoin platform is built to the highest security, regulatory, and operational standards. NYDIG is the gateway to a new era of financial products that make bitcoin more accessible for all.\"\n",
      "\n",
      "NYDIG will use the capital to further develop its institutional-grade platform, using recent upgrades to Bitcoin protocol with capabilities such as bitcoin and Lightning payments, asset tokenization, and smart contracts. It also plans on adding to its ranks across the globe, the company said.\n",
      "\n",
      "\n",
      "\n",
      ".X\n",
      ".X so what Pogs are bullish??? 🤣💩🔥\n",
      " \n",
      " You'll be fine................\n",
      " you’re the one for me🍏🍏🍏🤲🏻🤲🏻❤️❤️🎉🙏🏻🙏🏻🙏🏻🎉❤️🤲🏻🤲🏻🍏🍏‼️‼️‼️🤲🏻🥰🥰🥰🥰🥰\n",
      " eurotrash\n",
      " There is your DIP. LOAD THE BOAT TO 1100\n",
      ".X bunch of idiots playing only one side\n",
      ".X when can we see 60k.. someone fking tell me\n",
      ".X and the winner of stupidest post today goes to ….\n",
      ".X Let’s go Brandon\n",
      " 😂😂 this stock makes me laugh. bears get wrecked every time! hilarious\n"
     ]
    }
   ],
   "source": [
    "import pandas as pd\n",
    "from pathlib import Path\n",
    "import os\n",
    "directory = Path(os.getcwd())   # 'c:\\\\Users\\\\samue\\\\OneDrive\\\\Desktop\\\\JPM Fintech\\\\HKUST-x-J.P.-Morgan-Fintech-Mentorship-Program\\\\model_testing\\\\supervised'\n",
    "directory = directory.parent.parent.parent.joinpath(\"data\")  # 'c:\\\\Users\\\\samue\\\\OneDrive\\\\Desktop\\\\JPM Fintech\\\\data'\n",
    "df = pd.read_pickle(directory.joinpath(\"stocktwits_processed_without_multiple_full.pkl\"))\n",
    "df\n",
    "for i in df.sample(100).text:\n",
    "    print(i)"
   ]
  },
  {
   "cell_type": "code",
   "execution_count": 3,
   "metadata": {},
   "outputs": [],
   "source": [
    "def setup(sample=1000, ratio=0.8, is_token=True, sample_method=0):\n",
    "    # set directory\n",
    "    directory = Path(os.getcwd())   # 'c:\\\\Users\\\\samue\\\\OneDrive\\\\Desktop\\\\JPM Fintech\\\\HKUST-x-J.P.-Morgan-Fintech-Mentorship-Program\\\\model_testing\\\\supervised'\n",
    "    directory = directory.parent.parent.parent.joinpath(\"data\")  # 'c:\\\\Users\\\\samue\\\\OneDrive\\\\Desktop\\\\JPM Fintech\\\\data'\n",
    "    df = pd.read_pickle(directory.joinpath(\"stocktwits_processed_without_multiple_full.pkl\"))\n",
    "    \n",
    "    # remove symbols with too little sample size\n",
    "    df = df.groupby('symbols').filter(lambda x : len(x)>sample)\n",
    "\n",
    "    if sample_method == 0:\n",
    "        # turn all symbols into the same sample size\n",
    "        i = sample\n",
    "        for j in set(df['symbols']):\n",
    "            df = df[df['symbols'] != j].append(df[df['symbols'] == j].sample(i), ignore_index=True)\n",
    "        #print(df['symbols'].value_counts())\n",
    "    \n",
    "    # train_test split\n",
    "    df_train = df.sample(frac=ratio,random_state=200)\n",
    "    df_test = df.drop(df_train.index)\n",
    "\n",
    "    if is_token:\n",
    "        X_train = df_train.tokens\n",
    "        X_test = df_test.tokens\n",
    "    else:\n",
    "        X_train = df_train.text\n",
    "        X_test = df_test.text\n",
    "        \n",
    "    y_train = df_train.symbols\n",
    "    y_test = df_test.symbols\n",
    "\n",
    "    print_str = \"{} unique classes\\t{} training samples\\t{} test samples\".format(len(set(y_train)), len(X_train), len(X_test))\n",
    "\n",
    "    return X_train, X_test, y_train, y_test, print_str"
   ]
  },
  {
   "cell_type": "code",
   "execution_count": 4,
   "metadata": {},
   "outputs": [],
   "source": [
    "import seaborn as sns\n",
    "import matplotlib.pyplot as plt\n",
    "from sklearn.naive_bayes import MultinomialNB\n",
    "from sklearn.metrics import confusion_matrix, accuracy_score\n",
    "from sklearn.feature_extraction.text import CountVectorizer\n",
    "from imblearn.pipeline import Pipeline\n",
    "from sklearn.feature_extraction.text import TfidfTransformer\n",
    "from sklearn.metrics import classification_report\n",
    "from sklearn.linear_model import SGDClassifier\n",
    "from imblearn.over_sampling import SMOTE,RandomOverSampler,ADASYN,BorderlineSMOTE,KMeansSMOTE,SVMSMOTE\n",
    "from sklearn.linear_model import LogisticRegression\n",
    "from imblearn.under_sampling import NearMiss\n",
    "from sklearn.utils._testing import ignore_warnings\n",
    "from sklearn.exceptions import ConvergenceWarning\n",
    "from sklearn.svm import SVC\n",
    "import numpy as np\n",
    "from sklearn.model_selection import GridSearchCV\n",
    "from imblearn.combine import SMOTEENN, SMOTETomek \n",
    "\n",
    "@ignore_warnings(category=ConvergenceWarning)\n",
    "def model(X_train, X_test, y_train, y_test, model_method, sample_method):\n",
    "    # Build the model\n",
    "    model = Pipeline([('vect', CountVectorizer()),\n",
    "                    ('tfidf', TfidfTransformer())])\n",
    "\n",
    "    if sample_method == 1:\n",
    "        #pass\n",
    "        model.steps.append(['smote', SMOTE()])\n",
    "    elif sample_method == 2:\n",
    "        model.steps.append(['ros', RandomOverSampler()])\n",
    "    elif sample_method == 3:\n",
    "        model.steps.append(['ada', ADASYN()])\n",
    "    elif sample_method == 4:\n",
    "        model.steps.append(['sm', BorderlineSMOTE()])\n",
    "    elif sample_method == 5:\n",
    "        model.steps.append(['sm', SVMSMOTE()])\n",
    "    elif sample_method == 6:\n",
    "        model.steps.append(['smotteen', SMOTEENN()])\n",
    "    elif sample_method == 7:\n",
    "        model.steps.append(['smotetomek', SMOTETomek()])\n",
    "\n",
    "    if model_method == 0:\n",
    "        model.steps.append(['clf', SGDClassifier(loss='hinge', penalty='l2',alpha=1e-3, random_state=42, max_iter=5, tol=None)])\n",
    "        #model.steps.append(['clf', SVC()])\n",
    "        #param_grid = {'clf__C': [10, 100],\n",
    "              #'clf__gamma': [1],\n",
    "              #'clf__kernel': ['rbf', 'linear','poly','sigmoid']}\n",
    "\n",
    "    elif model_method == 1:\n",
    "        model.steps.append(['clf', MultinomialNB()])\n",
    "        #param_grid = {\n",
    "  #'clf__alpha': np.linspace(0.5, 1.5, 6),\n",
    "  #'clf__fit_prior': [True, False], }\n",
    "  \n",
    "    elif model_method == 2:\n",
    "        model.steps.append(['clf', LogisticRegression(n_jobs=1, C=1e5)])\n",
    "\n",
    "    #model = GridSearchCV(model, param_grid, n_jobs=2)\n",
    "    #print(model)\n",
    "    # Train the model using the training data\n",
    "    model.fit(X_train, y_train)\n",
    "    # Predict the symbols of the test data\n",
    "    y_pred = model.predict(X_test)\n",
    "    #print(model.best_estimator_)\n",
    "    # accuracy\n",
    "    #print(\"The accuracy is {}\".format(accuracy_score(y_test, y_pred)))\n",
    "    \n",
    "    # plot the confusion matrix\n",
    "    mat = confusion_matrix(y_test, y_pred)\n",
    "    #sns.heatmap(mat.T, square = True, annot=True, fmt = \"d\", xticklabels=set(y_train),yticklabels=set(y_train))\n",
    "    #plt.xlabel(\"true labels\")\n",
    "    #plt.ylabel(\"predicted label\")\n",
    "    #plt.show()\n",
    "\n",
    "    return accuracy_score(y_test, y_pred), classification_report(y_test, y_pred,target_names=set(y_train)), mat"
   ]
  },
  {
   "cell_type": "markdown",
   "metadata": {},
   "source": [
    "Method 1: random sample"
   ]
  },
  {
   "cell_type": "code",
   "execution_count": 37,
   "metadata": {},
   "outputs": [
    {
     "name": "stdout",
     "output_type": "stream",
     "text": [
      "sample:290\tratio:0.7\ttoken:False\n",
      "12 unique classes\t2436 training samples\t1044 test samples\n"
     ]
    },
    {
     "ename": "TypeError",
     "evalue": "'Pipeline' object is not callable",
     "output_type": "error",
     "traceback": [
      "\u001b[1;31m---------------------------------------------------------------------------\u001b[0m",
      "\u001b[1;31mTypeError\u001b[0m                                 Traceback (most recent call last)",
      "\u001b[1;32m~\\AppData\\Local\\Temp/ipykernel_24132/3221603417.py\u001b[0m in \u001b[0;36m<module>\u001b[1;34m\u001b[0m\n\u001b[0;32m     14\u001b[0m                     \u001b[1;32mif\u001b[0m \u001b[0mj\u001b[0m \u001b[1;33m==\u001b[0m \u001b[1;36m0\u001b[0m\u001b[1;33m:\u001b[0m\u001b[1;33m\u001b[0m\u001b[1;33m\u001b[0m\u001b[0m\n\u001b[0;32m     15\u001b[0m                         \u001b[0mprint\u001b[0m\u001b[1;33m(\u001b[0m\u001b[0mprint_str\u001b[0m\u001b[1;33m)\u001b[0m\u001b[1;33m\u001b[0m\u001b[1;33m\u001b[0m\u001b[0m\n\u001b[1;32m---> 16\u001b[1;33m                     \u001b[0mscore\u001b[0m\u001b[1;33m,\u001b[0m\u001b[0ma\u001b[0m\u001b[1;33m,\u001b[0m\u001b[0mb\u001b[0m\u001b[1;33m,\u001b[0m \u001b[0mmodel\u001b[0m \u001b[1;33m=\u001b[0m \u001b[0mmodel\u001b[0m\u001b[1;33m(\u001b[0m\u001b[0mX_train\u001b[0m\u001b[1;33m,\u001b[0m \u001b[0mX_test\u001b[0m\u001b[1;33m,\u001b[0m \u001b[0my_train\u001b[0m\u001b[1;33m,\u001b[0m \u001b[0my_test\u001b[0m\u001b[1;33m,\u001b[0m \u001b[0mi\u001b[0m\u001b[1;33m,\u001b[0m \u001b[0mmodel_no\u001b[0m\u001b[1;33m)\u001b[0m\u001b[1;33m\u001b[0m\u001b[1;33m\u001b[0m\u001b[0m\n\u001b[0m\u001b[0;32m     17\u001b[0m                     \u001b[0mscores\u001b[0m\u001b[1;33m.\u001b[0m\u001b[0mappend\u001b[0m\u001b[1;33m(\u001b[0m\u001b[0mscore\u001b[0m\u001b[1;33m)\u001b[0m\u001b[1;33m\u001b[0m\u001b[1;33m\u001b[0m\u001b[0m\n\u001b[0;32m     18\u001b[0m                 \u001b[0mprint\u001b[0m\u001b[1;33m(\u001b[0m\u001b[1;34m'{}: {}'\u001b[0m\u001b[1;33m.\u001b[0m\u001b[0mformat\u001b[0m\u001b[1;33m(\u001b[0m\u001b[0mi\u001b[0m\u001b[1;33m,\u001b[0m \u001b[0msum\u001b[0m\u001b[1;33m(\u001b[0m\u001b[0mscores\u001b[0m\u001b[1;33m)\u001b[0m\u001b[1;33m/\u001b[0m\u001b[0mlen\u001b[0m\u001b[1;33m(\u001b[0m\u001b[0mscores\u001b[0m\u001b[1;33m)\u001b[0m\u001b[1;33m)\u001b[0m\u001b[1;33m)\u001b[0m\u001b[1;33m\u001b[0m\u001b[1;33m\u001b[0m\u001b[0m\n",
      "\u001b[1;31mTypeError\u001b[0m: 'Pipeline' object is not callable"
     ]
    }
   ],
   "source": [
    "iteration = 10\n",
    "\n",
    "model_no = 0\n",
    "\n",
    "for s in [290,500,1000]:\n",
    "    for r in [0.7]:\n",
    "        for t in [False]:\n",
    "            for i in range(0, 1):\n",
    "                print('sample:{}\\tratio:{}\\ttoken:{}'.format(s,r,t))\n",
    "        \n",
    "                scores = []\n",
    "                for j in range(iteration):\n",
    "                    X_train, X_test, y_train, y_test, print_str = setup(s, r, t, model_no)\n",
    "                    if j == 0:\n",
    "                        print(print_str)\n",
    "                    score,a,b, model = model(X_train, X_test, y_train, y_test, i, model_no)\n",
    "                    scores.append(score)\n",
    "                print('{}: {}'.format(i, sum(scores)/len(scores)))\n",
    "                print()"
   ]
  },
  {
   "cell_type": "code",
   "execution_count": 56,
   "metadata": {},
   "outputs": [
    {
     "data": {
      "image/png": "[encoded data removed]",
      "text/plain": [
       "<Figure size 432x288 with 2 Axes>"
      ]
     },
     "metadata": {
      "needs_background": "light"
     },
     "output_type": "display_data"
    }
   ],
   "source": [
    "sns.heatmap(b.T, square = True, annot=True, fmt = \"d\", xticklabels=set(y_train),yticklabels=set(y_train))\n",
    "plt.xlabel(\"true labels\")\n",
    "plt.ylabel(\"predicted label\")\n",
    "plt.show()"
   ]
  },
  {
   "cell_type": "code",
   "execution_count": 59,
   "metadata": {},
   "outputs": [
    {
     "name": "stdout",
     "output_type": "stream",
     "text": [
      "              precision    recall  f1-score   support\n",
      "\n",
      "       $TWTR       0.82      0.31      0.45      9303\n",
      "       $PYPL       0.90      0.19      0.31      2877\n",
      "       $TSLA       0.55      0.98      0.71     24724\n",
      "       $AMZN       0.83      0.15      0.26      1744\n",
      "         $FB       0.69      0.09      0.16       269\n",
      "        $JPM       0.71      0.11      0.19       204\n",
      "        $BTC       0.63      0.41      0.50       158\n",
      "       $AAPL       0.74      0.09      0.16      1981\n",
      "      $GOOGL       0.75      0.45      0.57     15359\n",
      "          $V       0.58      0.06      0.12       910\n",
      "         $MS       0.70      0.12      0.20       347\n",
      "\n",
      "    accuracy                           0.61     57876\n",
      "   macro avg       0.72      0.27      0.33     57876\n",
      "weighted avg       0.68      0.61      0.56     57876\n",
      "\n"
     ]
    }
   ],
   "source": [
    "print(a)"
   ]
  },
  {
   "cell_type": "code",
   "execution_count": 54,
   "metadata": {},
   "outputs": [
    {
     "name": "stdout",
     "output_type": "stream",
     "text": [
      "              precision    recall  f1-score   support\n",
      "\n",
      "       $TWTR       0.68      0.38      0.48      9303\n",
      "       $PYPL       0.43      0.39      0.41      2877\n",
      "       $TSLA       0.80      0.60      0.69     24724\n",
      "       $AMZN       0.29      0.46      0.36      1744\n",
      "         $FB       0.04      0.61      0.07       269\n",
      "        $JPM       0.05      0.60      0.09       204\n",
      "        $BTC       0.07      0.76      0.13       158\n",
      "       $AAPL       0.27      0.29      0.28      1981\n",
      "      $GOOGL       0.78      0.49      0.61     15359\n",
      "          $V       0.10      0.57      0.17       910\n",
      "         $MS       0.05      0.48      0.10       347\n",
      "\n",
      "    accuracy                           0.51     57876\n",
      "   macro avg       0.32      0.51      0.31     57876\n",
      "weighted avg       0.70      0.51      0.58     57876\n",
      "\n"
     ]
    }
   ],
   "source": [
    "print(a)"
   ]
  },
  {
   "cell_type": "markdown",
   "metadata": {},
   "source": [
    "Method 2: with SMOTE"
   ]
  },
  {
   "cell_type": "code",
   "execution_count": 58,
   "metadata": {},
   "outputs": [
    {
     "name": "stdout",
     "output_type": "stream",
     "text": [
      "sample:500\tratio:0.7\ttoken:False\n",
      "11 unique classes\t135044 training samples\t57876 test samples\n",
      "0: 0.6083868961227452\n",
      "\n"
     ]
    }
   ],
   "source": [
    "iteration = 1\n",
    "\n",
    "model_no = 1\n",
    "\n",
    "for s in [500]:\n",
    "    for r in [0.7]:\n",
    "        for t in [False]:\n",
    "            for i in range(0, 1):\n",
    "                print('sample:{}\\tratio:{}\\ttoken:{}'.format(s,r,t))\n",
    "        \n",
    "                scores = []\n",
    "                for j in range(iteration):\n",
    "                    X_train, X_test, y_train, y_test, print_str = setup(s, r, t, model_no)\n",
    "                    if j == 0:\n",
    "                        print(print_str)\n",
    "                    score,a,b = model(X_train, X_test, y_train, y_test, i, model_no)\n",
    "                    scores.append(score)\n",
    "                print('{}: {}'.format(i, sum(scores)/len(scores)))\n",
    "                print()"
   ]
  },
  {
   "cell_type": "markdown",
   "metadata": {},
   "source": [
    "try various SMOTE"
   ]
  },
  {
   "cell_type": "code",
   "execution_count": 49,
   "metadata": {},
   "outputs": [
    {
     "name": "stdout",
     "output_type": "stream",
     "text": [
      "sample:500\tratio:0.7\ttoken:False\n",
      "10 unique classes\t24924 training samples\t10682 test samples\n",
      "1:               precision    recall  f1-score   support\n",
      "\n",
      "       $PYPL       0.58      0.38      0.46      1637\n",
      "       $TSLA       0.21      0.58      0.31       248\n",
      "         $FB       0.35      0.43      0.39      1076\n",
      "        $JPM       0.13      0.42      0.19       193\n",
      "       $MSFT       0.34      0.68      0.46       201\n",
      "       $AAPL       0.26      0.78      0.39       151\n",
      "         $MS       0.43      0.36      0.39       836\n",
      "          $V       0.55      0.41      0.47      1283\n",
      "         $JD       0.80      0.64      0.71      4771\n",
      "        $BAC       0.25      0.51      0.34       286\n",
      "\n",
      "    accuracy                           0.53     10682\n",
      "   macro avg       0.39      0.52      0.41     10682\n",
      "weighted avg       0.60      0.53      0.55     10682\n",
      "\n",
      "\n"
     ]
    }
   ],
   "source": [
    "iteration = 1\n",
    "\n",
    "#model_no = 1\n",
    "\n",
    "for s in [500]:\n",
    "    for r in [0.7]:\n",
    "        for t in [False]:\n",
    "            for i in range(0, 1):\n",
    "                for model_no in range(1,2):\n",
    "                    print('sample:{}\\tratio:{}\\ttoken:{}'.format(s,r,t))\n",
    "            \n",
    "                    scores = []\n",
    "                    for j in range(iteration):\n",
    "                        X_train, X_test, y_train, y_test, print_str = setup(s, r, t, model_no)\n",
    "                        if j == 0:\n",
    "                            print(print_str)\n",
    "                        score,a,b = model(X_train, X_test, y_train, y_test, i, model_no)\n",
    "                        scores.append(score)\n",
    "                    print('{}: {}'.format(model_no, a))\n",
    "                    print()"
   ]
  }
 ],
 "metadata": {
  "interpreter": {
   "hash": "b81dac28726c83b00d3c6dae9e63a43b8c5453f676fc94493b94bdbc8172050b"
  },
  "kernelspec": {
   "display_name": "Python 3.8.12 64-bit ('jpm': conda)",
   "language": "python",
   "name": "python3"
  },
  "language_info": {
   "codemirror_mode": {
    "name": "ipython",
    "version": 3
   },
   "file_extension": ".py",
   "mimetype": "text/x-python",
   "name": "python",
   "nbconvert_exporter": "python",
   "pygments_lexer": "ipython3",
   "version": "3.8.12"
  },
  "orig_nbformat": 4
 },
 "nbformat": 4,
 "nbformat_minor": 2
}
