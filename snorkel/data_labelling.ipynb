{
 "cells": [
  {
   "cell_type": "code",
   "execution_count": 1,
   "metadata": {},
   "outputs": [
    {
     "data": {
      "text/html": [
       "<div>\n",
       "<style scoped>\n",
       "    .dataframe tbody tr th:only-of-type {\n",
       "        vertical-align: middle;\n",
       "    }\n",
       "\n",
       "    .dataframe tbody tr th {\n",
       "        vertical-align: top;\n",
       "    }\n",
       "\n",
       "    .dataframe thead th {\n",
       "        text-align: right;\n",
       "    }\n",
       "</style>\n",
       "<table border=\"1\" class=\"dataframe\">\n",
       "  <thead>\n",
       "    <tr style=\"text-align: right;\">\n",
       "      <th></th>\n",
       "      <th>id</th>\n",
       "      <th>text</th>\n",
       "      <th>time</th>\n",
       "      <th>sentiment</th>\n",
       "      <th>symbols</th>\n",
       "    </tr>\n",
       "  </thead>\n",
       "  <tbody>\n",
       "    <tr>\n",
       "      <th>0</th>\n",
       "      <td>411896118</td>\n",
       "      <td>I’m comfortable at $127.50. I’ll check back in...</td>\n",
       "      <td>1638291431</td>\n",
       "      <td>Bullish</td>\n",
       "      <td>$BABA</td>\n",
       "    </tr>\n",
       "    <tr>\n",
       "      <th>1</th>\n",
       "      <td>411895020</td>\n",
       "      <td>how low does this POS go tomorrow is the milli...</td>\n",
       "      <td>1638291222</td>\n",
       "      <td></td>\n",
       "      <td>$BABA</td>\n",
       "    </tr>\n",
       "    <tr>\n",
       "      <th>2</th>\n",
       "      <td>411894156</td>\n",
       "      <td>@Nobrainer6868  started my first 5% position t...</td>\n",
       "      <td>1638291057</td>\n",
       "      <td></td>\n",
       "      <td>$BABA</td>\n",
       "    </tr>\n",
       "    <tr>\n",
       "      <th>3</th>\n",
       "      <td>411894124</td>\n",
       "      <td>You guys want me to sell down here? Look at th...</td>\n",
       "      <td>1638291050</td>\n",
       "      <td></td>\n",
       "      <td>$BABA</td>\n",
       "    </tr>\n",
       "    <tr>\n",
       "      <th>4</th>\n",
       "      <td>411893846</td>\n",
       "      <td>at this price point shorts are better off flip...</td>\n",
       "      <td>1638291000</td>\n",
       "      <td></td>\n",
       "      <td>$BABA</td>\n",
       "    </tr>\n",
       "    <tr>\n",
       "      <th>...</th>\n",
       "      <td>...</td>\n",
       "      <td>...</td>\n",
       "      <td>...</td>\n",
       "      <td>...</td>\n",
       "      <td>...</td>\n",
       "    </tr>\n",
       "    <tr>\n",
       "      <th>386926</th>\n",
       "      <td>420618061</td>\n",
       "      <td>USBancorp  BidaskScore is #Reiterated to Stron...</td>\n",
       "      <td>1640479505</td>\n",
       "      <td></td>\n",
       "      <td>$USB</td>\n",
       "    </tr>\n",
       "    <tr>\n",
       "      <th>386927</th>\n",
       "      <td>420617596</td>\n",
       "      <td>Short sale volume (not short interest) for  on...</td>\n",
       "      <td>1640478214</td>\n",
       "      <td></td>\n",
       "      <td>$USB</td>\n",
       "    </tr>\n",
       "    <tr>\n",
       "      <th>386928</th>\n",
       "      <td>420610698</td>\n",
       "      <td>SweepCast observed:  with Unusual Options Acti...</td>\n",
       "      <td>1640466364</td>\n",
       "      <td></td>\n",
       "      <td>$USB</td>\n",
       "    </tr>\n",
       "    <tr>\n",
       "      <th>386929</th>\n",
       "      <td>420437859</td>\n",
       "      <td>How does this affect your portfolio? 's in Upt...</td>\n",
       "      <td>1640326224</td>\n",
       "      <td></td>\n",
       "      <td>$USB</td>\n",
       "    </tr>\n",
       "    <tr>\n",
       "      <th>386930</th>\n",
       "      <td>420433589</td>\n",
       "      <td>MOVES HAPPENING NOW (8:25am)  ⦿  is down 0.0% ...</td>\n",
       "      <td>1640323511</td>\n",
       "      <td></td>\n",
       "      <td>$USB</td>\n",
       "    </tr>\n",
       "  </tbody>\n",
       "</table>\n",
       "<p>384876 rows × 5 columns</p>\n",
       "</div>"
      ],
      "text/plain": [
       "               id                                               text  \\\n",
       "0       411896118  I’m comfortable at $127.50. I’ll check back in...   \n",
       "1       411895020  how low does this POS go tomorrow is the milli...   \n",
       "2       411894156  @Nobrainer6868  started my first 5% position t...   \n",
       "3       411894124  You guys want me to sell down here? Look at th...   \n",
       "4       411893846  at this price point shorts are better off flip...   \n",
       "...           ...                                                ...   \n",
       "386926  420618061  USBancorp  BidaskScore is #Reiterated to Stron...   \n",
       "386927  420617596  Short sale volume (not short interest) for  on...   \n",
       "386928  420610698  SweepCast observed:  with Unusual Options Acti...   \n",
       "386929  420437859  How does this affect your portfolio? 's in Upt...   \n",
       "386930  420433589  MOVES HAPPENING NOW (8:25am)  ⦿  is down 0.0% ...   \n",
       "\n",
       "              time sentiment symbols  \n",
       "0       1638291431   Bullish   $BABA  \n",
       "1       1638291222             $BABA  \n",
       "2       1638291057             $BABA  \n",
       "3       1638291050             $BABA  \n",
       "4       1638291000             $BABA  \n",
       "...            ...       ...     ...  \n",
       "386926  1640479505              $USB  \n",
       "386927  1640478214              $USB  \n",
       "386928  1640466364              $USB  \n",
       "386929  1640326224              $USB  \n",
       "386930  1640323511              $USB  \n",
       "\n",
       "[384876 rows x 5 columns]"
      ]
     },
     "execution_count": 1,
     "metadata": {},
     "output_type": "execute_result"
    }
   ],
   "source": [
    "import pandas as pd\n",
    "from pathlib import Path\n",
    "import os\n",
    "\n",
    "directory = Path(os.getcwd())   \n",
    "directory = directory.parent.parent.joinpath(\"data\")  \n",
    "df = pd.read_pickle(directory.joinpath(\"stocktwits_processed_without_multiple_full.pkl\"))\n",
    "df"
   ]
  },
  {
   "cell_type": "code",
   "execution_count": 2,
   "metadata": {},
   "outputs": [
    {
     "data": {
      "text/plain": [
       "Index(['',\n",
       "       'Form FWP (filing under securities act rules 163/433 of free writing prospectuses) filed with the SEC',\n",
       "       'Form 424B2 (prospectus [rule 424(b)(2)]) filed with the SEC',\n",
       "       '📜 SEC Form FWP filed by Morgan Stanley    45 seconds delayed.', 'lol',\n",
       "       '.',\n",
       "       'made it on to the Best Stocks short list with an Earning Momentum of 22 and a perfect timing.',\n",
       "       'wow', 'Simulated 162.5 dollar CALLS for Monday's open on StockOrbit.',\n",
       "       'Form 6-K (report of foreign issuer [rules 13a-16 and 15d-16]) filed with the SEC',\n",
       "       ...\n",
       "       'finishing at the LOD???? Frick!', 'split news coming!!!!',\n",
       "       'Release the split rumor on Benzinga!', 'WTFFFF ARE U DOING',\n",
       "       '3425 close. EASY', 'it’s not popping but not dropping 🧐',\n",
       "       'honestly would be a perfect time to announce the split news here, bringing the price to $4000 before eoy',\n",
       "       'about to see 3420 at close.   3440 after hours.',\n",
       "       'after hours split news today??????',\n",
       "       '56 millionaires in the world and 21mil Bitcoins. Do the math.'],\n",
       "      dtype='object', length=287298)"
      ]
     },
     "execution_count": 2,
     "metadata": {},
     "output_type": "execute_result"
    }
   ],
   "source": [
    "df.text.value_counts().index"
   ]
  },
  {
   "cell_type": "code",
   "execution_count": 3,
   "metadata": {},
   "outputs": [],
   "source": [
    "# LABELS\n",
    "VALID = 1\n",
    "INVALID = 0\n",
    "UNLABEL = -1"
   ]
  },
  {
   "cell_type": "code",
   "execution_count": 4,
   "metadata": {},
   "outputs": [
    {
     "data": {
      "text/plain": [
       "['oracle',\n",
       " 'cerner',\n",
       " 'orcl',\n",
       " '100',\n",
       " 'cloud',\n",
       " 'coca',\n",
       " 'cola',\n",
       " 'activity',\n",
       " 'worth',\n",
       " 'bodyarmor']"
      ]
     },
     "execution_count": 4,
     "metadata": {},
     "output_type": "execute_result"
    }
   ],
   "source": [
    "text_file = open(\"tfidf_words/tfidf_words.txt\", \"r\")\n",
    "tfidf_words = text_file.readlines()\n",
    "tfidf_words = [i.replace('\\n', '') for i in tfidf_words]\n",
    "tfidf_words[:10]"
   ]
  },
  {
   "cell_type": "code",
   "execution_count": 5,
   "metadata": {},
   "outputs": [
    {
     "name": "stderr",
     "output_type": "stream",
     "text": [
      "100%|██████████| 384876/384876 [00:24<00:00, 15810.67it/s]\n"
     ]
    },
    {
     "data": {
      "text/html": [
       "<div>\n",
       "<style scoped>\n",
       "    .dataframe tbody tr th:only-of-type {\n",
       "        vertical-align: middle;\n",
       "    }\n",
       "\n",
       "    .dataframe tbody tr th {\n",
       "        vertical-align: top;\n",
       "    }\n",
       "\n",
       "    .dataframe thead th {\n",
       "        text-align: right;\n",
       "    }\n",
       "</style>\n",
       "<table border=\"1\" class=\"dataframe\">\n",
       "  <thead>\n",
       "    <tr style=\"text-align: right;\">\n",
       "      <th></th>\n",
       "      <th>j</th>\n",
       "      <th>Polarity</th>\n",
       "      <th>Coverage</th>\n",
       "      <th>Overlaps</th>\n",
       "      <th>Conflicts</th>\n",
       "    </tr>\n",
       "  </thead>\n",
       "  <tbody>\n",
       "    <tr>\n",
       "      <th>contains_num</th>\n",
       "      <td>0</td>\n",
       "      <td>[1]</td>\n",
       "      <td>0.401056</td>\n",
       "      <td>0.201041</td>\n",
       "      <td>0.018479</td>\n",
       "    </tr>\n",
       "    <tr>\n",
       "      <th>short_sentence</th>\n",
       "      <td>1</td>\n",
       "      <td>[0]</td>\n",
       "      <td>0.236629</td>\n",
       "      <td>0.076994</td>\n",
       "      <td>0.036477</td>\n",
       "    </tr>\n",
       "    <tr>\n",
       "      <th>blank</th>\n",
       "      <td>2</td>\n",
       "      <td>[0]</td>\n",
       "      <td>0.040517</td>\n",
       "      <td>0.040517</td>\n",
       "      <td>0.000000</td>\n",
       "    </tr>\n",
       "    <tr>\n",
       "      <th>in_tfidf_words</th>\n",
       "      <td>3</td>\n",
       "      <td>[1]</td>\n",
       "      <td>0.348268</td>\n",
       "      <td>0.202751</td>\n",
       "      <td>0.020188</td>\n",
       "    </tr>\n",
       "  </tbody>\n",
       "</table>\n",
       "</div>"
      ],
      "text/plain": [
       "                j Polarity  Coverage  Overlaps  Conflicts\n",
       "contains_num    0      [1]  0.401056  0.201041   0.018479\n",
       "short_sentence  1      [0]  0.236629  0.076994   0.036477\n",
       "blank           2      [0]  0.040517  0.040517   0.000000\n",
       "in_tfidf_words  3      [1]  0.348268  0.202751   0.020188"
      ]
     },
     "execution_count": 5,
     "metadata": {},
     "output_type": "execute_result"
    }
   ],
   "source": [
    "from snorkel.labeling import labeling_function\n",
    "from snorkel.labeling.model import LabelModel\n",
    "from snorkel.labeling import PandasLFApplier\n",
    "import re\n",
    "\n",
    "@labeling_function()\n",
    "def contains_num(x):\n",
    "    return VALID if bool(re.search(r'\\d', x.text)) else UNLABEL\n",
    "\n",
    "\n",
    "@labeling_function()\n",
    "def short_sentence(x):\n",
    "    return INVALID if (len(x.text.split()) < 5) and not ((len(x.text.split()) == 3 or len(x.text.split()) == 4) and bool(re.search(r'\\d', x.text))) else UNLABEL\n",
    "\n",
    "@labeling_function()\n",
    "def blank(x):\n",
    "    return INVALID if x.text == '' else UNLABEL\n",
    "\n",
    "@labeling_function()\n",
    "def in_tfidf_words(x):\n",
    "    return VALID if set(x.text.lower().split()) & set(tfidf_words) else UNLABEL\n",
    "\n",
    "\n",
    "\n",
    "# Define the set of labeling functions (LFs)\n",
    "lfs = [contains_num, short_sentence, blank, in_tfidf_words]\n",
    "\n",
    "# Apply the LFs to the unlabeled training data\n",
    "applier = PandasLFApplier(lfs)\n",
    "L_train = applier.apply(df)\n",
    "\n",
    "from snorkel.labeling import LFAnalysis\n",
    "\n",
    "LFAnalysis(L=L_train, lfs=lfs).lf_summary()"
   ]
  },
  {
   "cell_type": "code",
   "execution_count": 6,
   "metadata": {},
   "outputs": [
    {
     "name": "stderr",
     "output_type": "stream",
     "text": [
      "INFO:root:Computing O...\n",
      "INFO:root:Estimating \\mu...\n",
      "  0%|          | 0/500 [00:00<?, ?epoch/s]INFO:root:[0 epochs]: TRAIN:[loss=0.121]\n",
      "  8%|▊         | 41/500 [00:00<00:01, 405.95epoch/s]INFO:root:[50 epochs]: TRAIN:[loss=0.003]\n",
      "INFO:root:[100 epochs]: TRAIN:[loss=0.001]\n",
      "INFO:root:[150 epochs]: TRAIN:[loss=0.000]\n",
      "INFO:root:[200 epochs]: TRAIN:[loss=0.000]\n",
      " 40%|████      | 202/500 [00:00<00:00, 1111.29epoch/s]INFO:root:[250 epochs]: TRAIN:[loss=0.000]\n",
      "INFO:root:[300 epochs]: TRAIN:[loss=0.000]\n",
      "INFO:root:[350 epochs]: TRAIN:[loss=0.000]\n",
      " 77%|███████▋  | 383/500 [00:00<00:00, 1429.42epoch/s]INFO:root:[400 epochs]: TRAIN:[loss=0.000]\n",
      "INFO:root:[450 epochs]: TRAIN:[loss=0.000]\n",
      "100%|██████████| 500/500 [00:00<00:00, 1369.75epoch/s]\n",
      "INFO:root:Finished Training\n"
     ]
    }
   ],
   "source": [
    "# Train the label model and compute the training labels\n",
    "label_model = LabelModel()\n",
    "label_model.fit(L_train, n_epochs=500, log_freq=50, seed=123)\n",
    "df[\"label\"] = label_model.predict(L=L_train, tie_break_policy=\"abstain\")\n"
   ]
  },
  {
   "cell_type": "markdown",
   "metadata": {},
   "source": [
    "Check wether the results are correct"
   ]
  },
  {
   "cell_type": "code",
   "execution_count": 8,
   "metadata": {},
   "outputs": [
    {
     "data": {
      "text/plain": [
       "['@ AMD NXPI QCOM Daily & 30 m Charts . Are we living  in a simulation or what ...',\n",
       " 'short term target at $135. Shorts will pay...👍👍👍👍💰💰💰 multi day runner',\n",
       " '📜 SEC Form 4: Page Lawrence converted options into 13,889 shares and sold $41,121,590 worth of shares (13,889 units at $2,960.73) as part of a pre-agreed trading plan    45 seconds delayed.',\n",
       " 'MSFT Trending on Twitter based on the percentage increase in impressions over the last 24hrs.  The dashboard tracks trending stock on Twitter, StockTwits, and Reddit. It breaks it down in real-time so you can catch the trend before it takes off. Check it out, LMK:',\n",
       " '50k 🔮',\n",
       " 'loaded up on 12/3 170 P. 165 by Friday',\n",
       " 'still an uptrend from the 118, slowly we will get there',\n",
       " '108s were nice ill add more over time.',\n",
       " '3000 by Friday',\n",
       " '39 incoming',\n",
       " 'NEW ARTICLE : Options Market Suggests Favorable Outlook On QQQ To Mid-2022',\n",
       " 'atleast 1100 open Monday',\n",
       " 'Oh how many rookies are here …..  Move your chart out and you will see this is going to test 41k.    💯 clear as day',\n",
       " \"Probably going to lose a grand or so today on a dumb move from yesterday. Don't try and scalp puts at 3:50 then try and flip them by 4:00...lesson learned. Just give me 2915 at open then you can shoot up to 3000 for all I care.\",\n",
       " 'Oh mama. Is this it? Is this where we hit 100k?',\n",
       " 'SweepCast alerted:  with Unusual Options Activity Alerted on $55 CALL Expiring: 12-03-2021 worth 123K🐂 |🥇 See more in profile',\n",
       " 'has a Return On Assets of 12.56%. This is better than the industry average of 7.20%.',\n",
       " 'over $1000 tomorrow 🤑🚀',\n",
       " 'm000n',\n",
       " \"Simulated 110.0 dollar CALLS for Monday's open on StockOrbit.\"]"
      ]
     },
     "execution_count": 8,
     "metadata": {},
     "output_type": "execute_result"
    }
   ],
   "source": [
    "list(df.iloc[L_train[:,0] == VALID].sample(20).text)"
   ]
  },
  {
   "cell_type": "markdown",
   "metadata": {},
   "source": [
    "Still unlabelled after running through all labelling function"
   ]
  },
  {
   "cell_type": "code",
   "execution_count": 9,
   "metadata": {},
   "outputs": [
    {
     "data": {
      "text/plain": [
       "['not good. Looking like a red close',\n",
       " 'Futures up. Check major support  and resistance levels in nasdaq  before market open']"
      ]
     },
     "execution_count": 9,
     "metadata": {},
     "output_type": "execute_result"
    }
   ],
   "source": [
    "list(df.iloc[[not any(i) for i in L_train[:] != UNLABEL]].sample(2).text)"
   ]
  },
  {
   "cell_type": "markdown",
   "metadata": {},
   "source": [
    "data that is labelled as valid"
   ]
  },
  {
   "cell_type": "code",
   "execution_count": 27,
   "metadata": {},
   "outputs": [
    {
     "data": {
      "text/plain": [
       "['📜 SEC Form FWP filed by Morgan Stanley    45 seconds delayed.',\n",
       " 'the algorithms at area 51 are designed to break your conviction in your investment',\n",
       " 'sry for bears who hopes today go to 800 $ …. Fck no sorry 😂😂😂',\n",
       " 'split announcement incoming 🔥 12/09 is tomorrow!',\n",
       " '$600 1/2 years.',\n",
       " 'New Press Release:      The Walt Disney Company Names Horacio Gutierrez as General Counsel and Secretary     Horacio Gutierrez has been named Senior Executive Vice President, General Counsel and Secretary of The Walt Disney Company (NYSE: DIS), it was announced today by Bob Chapek, Chief Executive Officer. Mr. Gutierrez joins Disney from Spotify, where he has served as Head of Global Affairs and Chief Legal Officer. His appointment is effective February 1, 2022, and he will report directly to Mr. Chapek. Mr. Gutierrez will succeed longtime Disney veteran Alan Braverman who, as was announced in July, is retiring after nearly two decades as General Counsel. This press release features multimedia. View the full release here:  Horacio Gutierrez ( (...)',\n",
       " '47K floor, 62K by Mar 2022',\n",
       " 'Consistent innovation with excellent execution makes a business Xceptional. Looking at the technicals & future growth outlook, the exponential growth is yet to come. Long term bullish on Starbucks -',\n",
       " 'MOVES HAPPENING NOW (6:39pm)  ⦿  is down 0.0% in the last 5 mins.   ⦿ There are 14 stocks that are up more than 3% in the last 5 mins.   ⦿ The top gainer is up 10.0% in the last 5 mins.    See the stocks that are moving the most right now via link in bio (wallstreetodds .com).',\n",
       " \"I think at least part of this correction is the realization that BTC is no longer the only cryptocurrency on the market.  There's literally no reason it should be 10x the price of several other cryptos.\"]"
      ]
     },
     "execution_count": 27,
     "metadata": {},
     "output_type": "execute_result"
    }
   ],
   "source": [
    "list(df[df['label'] == 1].sample(10).text)"
   ]
  },
  {
   "cell_type": "markdown",
   "metadata": {},
   "source": [
    "data that is lablled as invalid"
   ]
  },
  {
   "cell_type": "code",
   "execution_count": 15,
   "metadata": {},
   "outputs": [
    {
     "data": {
      "text/plain": [
       "['wtf!!! $mnmd $nvax fml!!',\n",
       " '💪',\n",
       " 'can’t fool me twice',\n",
       " 'help el salvador',\n",
       " 'ouch',\n",
       " '😳',\n",
       " 'they got your shares!!!',\n",
       " ',',\n",
       " 'FUCK YOU BULLLSSASASSSSAASSA',\n",
       " 'You did this😡🤣🤣🤣',\n",
       " 'must be lunch time',\n",
       " 'relaxed here',\n",
       " 'reminder...stay patient...',\n",
       " 'rabble rabble rabble',\n",
       " 'adding calls here',\n",
       " '',\n",
       " 'fake dump',\n",
       " 'stop selling, bitches',\n",
       " 'Buy more',\n",
       " '💥']"
      ]
     },
     "execution_count": 15,
     "metadata": {},
     "output_type": "execute_result"
    }
   ],
   "source": [
    "list(df[df['label'] == 0].sample(20).text)"
   ]
  },
  {
   "cell_type": "markdown",
   "metadata": {},
   "source": [
    "data that is unlabelled"
   ]
  },
  {
   "cell_type": "code",
   "execution_count": 12,
   "metadata": {},
   "outputs": [
    {
     "data": {
      "text/plain": [
       "['fade the open. That jump is silly. Just a fade. It is so obvious the markets are manipulated. It is like they forgot about the Fed and inflation in a day.',\n",
       " 'out of all the disappointing days for the past few months, this one is the most demoralizing. Congrats bears.',\n",
       " 'why buy the dips now when you can wait for a bigger dip.',\n",
       " 'At least go green for the day to shut some bears up',\n",
       " 'currently assembles the majority of iPhones in its Shenzen, China, location, although Foxconn maintains factories in countries across the world, including Thailand, Malaysia, the Czech Republic, South Korea, Singapore, and the Philippines.  Why not setup some assembly in the USA?',\n",
       " 'looks like the pendulum had swing back in our favor.',\n",
       " 'hanging on to dear life',\n",
       " 'people gonna get Filleted here be careful',\n",
       " 'don’t do this to me you slut go back up',\n",
       " 'I personally have not thought of gold as being a store of value for years now.',\n",
       " 'weird that exactly the same percentage of drop in SPY, DJI and Nasdaq',\n",
       " '⬇️ one of the greatest beware he has rabies!',\n",
       " 'something came out of no where but its pulled the nasdaq back to red',\n",
       " '$arkk cathie wood giving free money, ark is a charity fund',\n",
       " \"of course they're fucking with the only true inflation hedge yet again. SMDH.\",\n",
       " 'Hodl is a thing of the past',\n",
       " 'we shall see what buying opportunities present themselves to me today.',\n",
       " \"we need Nasdaq to bounce, without Elon's dump it might shoot to green if mkt r covers\",\n",
       " 'the up is too crazy alr !! wat happend?',\n",
       " 'fake pump already over hahaha easy short']"
      ]
     },
     "execution_count": 12,
     "metadata": {},
     "output_type": "execute_result"
    }
   ],
   "source": [
    "list(df[df['label'] == -1].sample(20).text)"
   ]
  },
  {
   "cell_type": "code",
   "execution_count": 13,
   "metadata": {},
   "outputs": [],
   "source": [
    "df[df['label'] == 1].to_pickle(directory.joinpath(\"stocktwits_processed_cleaned_full.pkl\"))"
   ]
  }
 ],
 "metadata": {
  "interpreter": {
   "hash": "b81dac28726c83b00d3c6dae9e63a43b8c5453f676fc94493b94bdbc8172050b"
  },
  "kernelspec": {
   "display_name": "Python 3.8.12 64-bit ('jpm': conda)",
   "language": "python",
   "name": "python3"
  },
  "language_info": {
   "codemirror_mode": {
    "name": "ipython",
    "version": 3
   },
   "file_extension": ".py",
   "mimetype": "text/x-python",
   "name": "python",
   "nbconvert_exporter": "python",
   "pygments_lexer": "ipython3",
   "version": "3.8.12"
  },
  "orig_nbformat": 4
 },
 "nbformat": 4,
 "nbformat_minor": 2
}
